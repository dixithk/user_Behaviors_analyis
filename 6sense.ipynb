{
 "cells": [
  {
   "cell_type": "code",
   "execution_count": 1,
   "metadata": {},
   "outputs": [
    {
     "name": "stderr",
     "output_type": "stream",
     "text": [
      "/Users/dkurra/miniconda3/lib/python3.7/site-packages/statsmodels/compat/pandas.py:49: FutureWarning: The Panel class is removed from pandas. Accessing it from the top-level namespace will also be removed in the next version\n",
      "  data_klasses = (pandas.Series, pandas.DataFrame, pandas.Panel)\n",
      "Using TensorFlow backend.\n"
     ]
    }
   ],
   "source": [
    "import numpy as np\n",
    "import pandas as pd\n",
    "import matplotlib.pyplot as plt\n",
    "import seaborn as sns\n",
    "\n",
    "from sklearn import preprocessing\n",
    "from sklearn.preprocessing import MinMaxScaler\n",
    "from sklearn.model_selection import train_test_split\n",
    "from sklearn.metrics import mean_squared_error\n",
    "from tqdm import tqdm\n",
    "import xgboost\n",
    "from scipy import stats\n",
    "\n",
    "from statsmodels.tsa.stattools import adfuller\n",
    "\n",
    "import keras\n",
    "from keras.models import Sequential\n",
    "from keras.layers import Dense\n",
    "from keras.layers import LSTM\n",
    "from keras.layers import Dropout\n",
    "from keras.layers import *\n",
    "from keras.callbacks import EarlyStopping\n",
    "from sklearn.metrics import mean_squared_error\n",
    "from sklearn.metrics import mean_absolute_error\n",
    "from sklearn.metrics import roc_auc_score\n",
    "import random\n",
    "import string\n",
    "import bisect\n",
    "import collections\n",
    "\n",
    "from sklearn.metrics import f1_score\n",
    "from sklearn.ensemble import RandomForestClassifier\n",
    "import matplotlib\n",
    "from sklearn.model_selection import StratifiedKFold, RandomizedSearchCV\n",
    "from sklearn.metrics import roc_curve, auc\n",
    "%matplotlib inline\n",
    "matplotlib.rcParams.update({'font.size': 20})\n",
    "from sklearn.model_selection import KFold\n",
    "from sklearn.model_selection import cross_val_score\n",
    "import itertools"
   ]
  },
  {
   "cell_type": "markdown",
   "metadata": {},
   "source": [
    "Load the training dataset"
   ]
  },
  {
   "cell_type": "code",
   "execution_count": 2,
   "metadata": {},
   "outputs": [],
   "source": [
    "training_dataset = pd.read_csv('./training.tsv', sep='\\t', names=['user_id', 'date', 'action'])"
   ]
  },
  {
   "cell_type": "code",
   "execution_count": 3,
   "metadata": {},
   "outputs": [],
   "source": [
    "training_dataset['date'] = pd.to_datetime(training_dataset[\"date\"])\n",
    "training_dataset.sort_values(by=['date'])\n",
    "grouped = training_dataset.groupby(['user_id'])\n",
    "user_action_date = grouped.agg({'action': list, 'date': list}).reset_index()"
   ]
  },
  {
   "cell_type": "code",
   "execution_count": 121,
   "metadata": {},
   "outputs": [
    {
     "data": {
      "text/html": [
       "<div>\n",
       "<style scoped>\n",
       "    .dataframe tbody tr th:only-of-type {\n",
       "        vertical-align: middle;\n",
       "    }\n",
       "\n",
       "    .dataframe tbody tr th {\n",
       "        vertical-align: top;\n",
       "    }\n",
       "\n",
       "    .dataframe thead th {\n",
       "        text-align: right;\n",
       "    }\n",
       "</style>\n",
       "<table border=\"1\" class=\"dataframe\">\n",
       "  <thead>\n",
       "    <tr style=\"text-align: right;\">\n",
       "      <th></th>\n",
       "      <th>user_id</th>\n",
       "      <th>date</th>\n",
       "      <th>action</th>\n",
       "    </tr>\n",
       "  </thead>\n",
       "  <tbody>\n",
       "    <tr>\n",
       "      <th>0</th>\n",
       "      <td>00002acbe042d69</td>\n",
       "      <td>2013-07-11</td>\n",
       "      <td>EmailOpen</td>\n",
       "    </tr>\n",
       "    <tr>\n",
       "      <th>1</th>\n",
       "      <td>00002acbe042d69</td>\n",
       "      <td>2013-07-11</td>\n",
       "      <td>FormSubmit</td>\n",
       "    </tr>\n",
       "    <tr>\n",
       "      <th>2</th>\n",
       "      <td>00002acbe042d69</td>\n",
       "      <td>2013-07-15</td>\n",
       "      <td>EmailOpen</td>\n",
       "    </tr>\n",
       "    <tr>\n",
       "      <th>3</th>\n",
       "      <td>00002acbe042d69</td>\n",
       "      <td>2013-07-17</td>\n",
       "      <td>EmailOpen</td>\n",
       "    </tr>\n",
       "    <tr>\n",
       "      <th>4</th>\n",
       "      <td>00002acbe042d69</td>\n",
       "      <td>2013-07-18</td>\n",
       "      <td>EmailOpen</td>\n",
       "    </tr>\n",
       "  </tbody>\n",
       "</table>\n",
       "</div>"
      ],
      "text/plain": [
       "           user_id       date      action\n",
       "0  00002acbe042d69 2013-07-11   EmailOpen\n",
       "1  00002acbe042d69 2013-07-11  FormSubmit\n",
       "2  00002acbe042d69 2013-07-15   EmailOpen\n",
       "3  00002acbe042d69 2013-07-17   EmailOpen\n",
       "4  00002acbe042d69 2013-07-18   EmailOpen"
      ]
     },
     "execution_count": 121,
     "metadata": {},
     "output_type": "execute_result"
    }
   ],
   "source": [
    "training_dataset.head()"
   ]
  },
  {
   "cell_type": "markdown",
   "metadata": {},
   "source": [
    "## Dataset Statictis"
   ]
  },
  {
   "cell_type": "markdown",
   "metadata": {},
   "source": [
    "### Number of Purchasers"
   ]
  },
  {
   "cell_type": "code",
   "execution_count": 163,
   "metadata": {},
   "outputs": [],
   "source": [
    "purchasers_user_action_date = user_action_date[user_action_date.action.apply(lambda x: 'Purchase' in x)]"
   ]
  },
  {
   "cell_type": "code",
   "execution_count": 164,
   "metadata": {},
   "outputs": [
    {
     "name": "stdout",
     "output_type": "stream",
     "text": [
      "Number of purchasers: 103991\n"
     ]
    }
   ],
   "source": [
    "purchasers_count = purchasers_user_action_date.shape[0]\n",
    "print('Number of purchasers:', purchasers_count)"
   ]
  },
  {
   "cell_type": "markdown",
   "metadata": {},
   "source": [
    "### Number of non purchasers"
   ]
  },
  {
   "cell_type": "code",
   "execution_count": 165,
   "metadata": {},
   "outputs": [],
   "source": [
    "non_purchasers_user_action_date = user_action_date[user_action_date.action.apply(lambda x: not 'Purchase' in x)]\n",
    "non_purchasers_count = non_purchasers_user_action_date.shape[0]"
   ]
  },
  {
   "cell_type": "code",
   "execution_count": 166,
   "metadata": {},
   "outputs": [
    {
     "name": "stdout",
     "output_type": "stream",
     "text": [
      "Number of Non purchasers: 237577\n"
     ]
    }
   ],
   "source": [
    "print('Number of Non purchasers:', non_purchasers_count)"
   ]
  },
  {
   "cell_type": "code",
   "execution_count": 167,
   "metadata": {},
   "outputs": [
    {
     "name": "stdout",
     "output_type": "stream",
     "text": [
      "30.45% of users purchased atleast once\n"
     ]
    }
   ],
   "source": [
    "rate = (purchasers_count/(non_purchasers_count + purchasers_count))*100\n",
    "print('%.2f%% of users purchased atleast once' % rate)"
   ]
  },
  {
   "cell_type": "markdown",
   "metadata": {},
   "source": [
    "### Number of users"
   ]
  },
  {
   "cell_type": "code",
   "execution_count": 168,
   "metadata": {},
   "outputs": [
    {
     "name": "stdout",
     "output_type": "stream",
     "text": [
      "Number of users 341568\n"
     ]
    }
   ],
   "source": [
    "print('Number of users', non_purchasers_count + purchasers_count)"
   ]
  },
  {
   "cell_type": "markdown",
   "metadata": {},
   "source": [
    "### Number of Actions"
   ]
  },
  {
   "cell_type": "code",
   "execution_count": 169,
   "metadata": {},
   "outputs": [
    {
     "name": "stdout",
     "output_type": "stream",
     "text": [
      "Number of actions 4918677\n"
     ]
    }
   ],
   "source": [
    "print('Number of actions', training_dataset.shape[0])"
   ]
  },
  {
   "cell_type": "markdown",
   "metadata": {},
   "source": [
    "### Time duration"
   ]
  },
  {
   "cell_type": "code",
   "execution_count": 170,
   "metadata": {},
   "outputs": [
    {
     "name": "stdout",
     "output_type": "stream",
     "text": [
      "Total number of days in which actions were recorded: 670\n"
     ]
    }
   ],
   "source": [
    "print('Total number of days in which actions were recorded:',(training_dataset.date.max() - training_dataset.date.min()).days)"
   ]
  },
  {
   "cell_type": "markdown",
   "metadata": {},
   "source": [
    "### Years in which purchases were made"
   ]
  },
  {
   "cell_type": "code",
   "execution_count": 171,
   "metadata": {},
   "outputs": [
    {
     "data": {
      "text/plain": [
       "array([2013, 2014, 2015])"
      ]
     },
     "execution_count": 171,
     "metadata": {},
     "output_type": "execute_result"
    }
   ],
   "source": [
    "training_dataset.date.apply(lambda x: x.year).unique()"
   ]
  },
  {
   "cell_type": "markdown",
   "metadata": {},
   "source": [
    "All the actions were recorded during 2013, 2014, 2015"
   ]
  },
  {
   "cell_type": "markdown",
   "metadata": {},
   "source": [
    "#### Helper functions to preprocess data"
   ]
  },
  {
   "cell_type": "code",
   "execution_count": 15,
   "metadata": {},
   "outputs": [],
   "source": [
    "# groups users and zips the (action, date)\n",
    "# params: user_id, date, action\n",
    "# returns [user_id, actions]\n",
    "def zip_actions_date(row):\n",
    "    actions = row['action']\n",
    "    dates = row['date']\n",
    "    \n",
    "    return [row['user_id'], list(zip(actions, dates))]"
   ]
  },
  {
   "cell_type": "code",
   "execution_count": 16,
   "metadata": {},
   "outputs": [],
   "source": [
    "def split_date_action(row):\n",
    "    actions_date = row['actions']\n",
    "    size = len(actions_date)\n",
    "    idx_list = [idx + 1 for idx, val in enumerate(actions_date) if val[0] == 'Purchase']\n",
    "    res =  [[row['user_id'], actions_date[i: j]] for i, j in\n",
    "        zip([0] + idx_list, idx_list + \n",
    "        ([size] if idx_list[-1] != size else []))]\n",
    "    \n",
    "    return res"
   ]
  },
  {
   "cell_type": "code",
   "execution_count": 17,
   "metadata": {},
   "outputs": [],
   "source": [
    "# delete any rows or records which has only action and which is purchase\n",
    "def delete_purchase_tails(row):\n",
    "    actions_date = row['actions']\n",
    "    size = len(actions_date)\n",
    "    res = [idx for idx, val in enumerate(actions_date) if val[0] == 'Purchase']\n",
    "    return not len(res) == 0"
   ]
  },
  {
   "cell_type": "code",
   "execution_count": 18,
   "metadata": {},
   "outputs": [],
   "source": [
    "# deletes any actions that occured after purchase for one time purchasers\n",
    "# As we are interested only actions that occured before purchase\n",
    "def delete_beyond_purchase_actions(row):\n",
    "    actions_date = row['actions']\n",
    "    size = len(actions_date)\n",
    "    res = max(idx for idx, val in enumerate(actions_date) if val[0] == 'Purchase') \n",
    "    res =  [[row['user_id'], actions_date[0: res+1]]]\n",
    "    return res"
   ]
  },
  {
   "cell_type": "code",
   "execution_count": 19,
   "metadata": {},
   "outputs": [],
   "source": [
    "def more_than_one_action(row):\n",
    "    actions_date = row['actions']\n",
    "    size = len(actions_date)\n",
    "    return  (size) > 1"
   ]
  },
  {
   "cell_type": "code",
   "execution_count": 20,
   "metadata": {},
   "outputs": [],
   "source": [
    "# during analysis, actions occurence are counted as how far the action \n",
    "def day_prior_purchase(row):\n",
    "    actions_date = row['actions']\n",
    "    purchase_date = row['actions'][-1][1]\n",
    "    res = []\n",
    "    for action in actions_date:\n",
    "        res.append((purchase_date - action[1]).days)\n",
    "    \n",
    "    actions_list = [action[0] for action in actions_date]\n",
    "        \n",
    "    row['actions'] = list(zip(actions_list, res))\n",
    "    return row"
   ]
  },
  {
   "cell_type": "markdown",
   "metadata": {},
   "source": [
    "###Number of days active in last seven day"
   ]
  },
  {
   "cell_type": "code",
   "execution_count": 21,
   "metadata": {},
   "outputs": [],
   "source": [
    "def number_of_day_active_before_purchase(row):\n",
    "    actions_date = row['actions']\n",
    "    days = [action[1] for action in actions_date]\n",
    "    days.reverse()\n",
    "    return bisect.bisect_left(days, 7)"
   ]
  },
  {
   "cell_type": "code",
   "execution_count": 22,
   "metadata": {},
   "outputs": [],
   "source": [
    "def number_of_actions_on_the_last_day(row):\n",
    "    actions_date = row['actions']\n",
    "    days = [action[1] for action in actions_date]\n",
    "    return days.count(0)"
   ]
  },
  {
   "cell_type": "code",
   "execution_count": 23,
   "metadata": {},
   "outputs": [],
   "source": [
    "def actions_count(row, target):\n",
    "    actions_date = row['actions']\n",
    "    actions = [action[0] for action in actions_date]\n",
    "    return actions.count(target)"
   ]
  },
  {
   "cell_type": "code",
   "execution_count": 24,
   "metadata": {},
   "outputs": [],
   "source": [
    "def is_single_purchase(action_date_list):    \n",
    "    actions = [action_date[0] for action_date in action_date_list]\n",
    "    return actions.count('Purchase') == 1\n",
    "\n",
    "def is_multiple_purchase(action_date_list):    \n",
    "    actions = [action_date[0] for action_date in action_date_list]\n",
    "    return actions.count('Purchase') > 1\n",
    "\n",
    "def get_one_time_purchasers(df):\n",
    "    return df[df.actions.apply(is_single_purchase)]\n",
    "\n",
    "def get_mutliple_purchasers(df):\n",
    "    return df[df.actions.apply(is_multiple_purchase)]\n",
    "\n",
    "def split_multiple_purchases_into_single_purchase(df):\n",
    "    df = df.apply(split_date_action, axis = 1)\n",
    "    merged = list(itertools.chain.from_iterable(df.values.tolist()))\n",
    "    \n",
    "    return pd.DataFrame(merged, columns =['user_id', 'actions'])\n",
    "\n",
    "def preprocessed_purchasers(df):\n",
    "    df = df[df.apply(delete_purchase_tails, axis = 1)]\n",
    "    df_2 = df.apply(delete_beyond_purchase_actions, axis = 1)\n",
    "    merged = list(itertools.chain.from_iterable(df_2.values.tolist()))\n",
    "    return pd.DataFrame(merged, columns =['user_id', 'actions'])\n",
    "\n",
    "\n",
    "def add_action_type_features(df):\n",
    "    df.loc[:, 'EmailOpen_cnt'] = df.apply(lambda x: actions_count(x, 'EmailOpen'), axis=1)\n",
    "    df.loc[:, 'FormSubmit_cnt'] = df.apply(lambda x: actions_count(x, 'FormSubmit'), axis=1)\n",
    "    df.loc[:, 'EmailClickthrough_cnt'] = df.apply(lambda x: actions_count(x, 'EmailClickthrough'), axis=1)\n",
    "    df.loc[:, 'CustomerSupport_cnt'] = df.apply(lambda x: actions_count(x, 'CustomerSupport'), axis=1)\n",
    "    df.loc[:, 'PageView_cnt'] = df.apply(lambda x: actions_count(x, 'PageView'), axis=1)\n",
    "    df.loc[:, 'WebVisit_cnt'] = df.apply(lambda x: actions_count(x, 'WebVisit'), axis=1)\n",
    "\n",
    "# returns the negative offset of when the purchase has happened\n",
    "def day_prior_purchase(row):\n",
    "    actions_date = row['actions']\n",
    "    purchase_date = row['actions'][-1][1]\n",
    "    res = []\n",
    "    for action in actions_date:\n",
    "        res.append((purchase_date - action[1]).days)\n",
    "    \n",
    "    actions_list = [action[0] for action in actions_date]\n",
    "        \n",
    "    row['actions'] = list(zip(actions_list, res))\n",
    "    return row\n",
    "\n",
    "# For analysis we consider only actions that occured 60days prior to purchase\n",
    "def purchase_within_60days(row):\n",
    "    actions_date = row['actions']\n",
    "    purchase_date = row['actions'][-1][1]\n",
    "    action_start_date = row['actions'][0][1]\n",
    "    return (action_start_date - purchase_date) <= 60\n",
    "    \n",
    "def add_temporal_feature(df):\n",
    "    df = df.apply(day_prior_purchase, axis = 1)\n",
    "    return df[df.apply(purchase_within_60days, axis = 1)]\n",
    "\n",
    "def add_activity_related_feature(df):\n",
    "    df['active_days'] = df.apply(number_of_day_active_before_purchase, axis=1)\n",
    "    df['last_day_activity'] = df.apply(number_of_actions_on_the_last_day, axis=1)\n",
    "    "
   ]
  },
  {
   "cell_type": "code",
   "execution_count": 25,
   "metadata": {},
   "outputs": [],
   "source": [
    "def get_single_multiple_purchasers(dataset):\n",
    "    # convert date to pd date format\n",
    "    dataset['date'] = pd.to_datetime(dataset[\"date\"])\n",
    "    dataset.sort_values(by=['date'])\n",
    "    # group actions by user\n",
    "    grouped = dataset.groupby(['user_id'])\n",
    "    # data structured as user_id, list of actions, list of dates\n",
    "    user_action_date = grouped.agg({'action': list, 'date': list}).reset_index()\n",
    "    \n",
    "    # get all users with purchase\n",
    "    purchasers_user_action_date = user_action_date[user_action_date.action.apply(lambda x: 'Purchase' in x)]\n",
    "    \n",
    "    # zip actions and dates, format, user_id, list[list[action, day]]\n",
    "    purchasers_zip_actions_date = purchasers_user_action_date.apply(zip_actions_date, axis = 1)\n",
    "    purchasers_user_action_date = pd.DataFrame(purchasers_zip_actions_date.values.tolist(), columns =['user_id', 'actions']) \n",
    "    # get user who purchased only once\n",
    "    one_time_purchasers = get_one_time_purchasers(purchasers_user_action_date)\n",
    "    # get users who purchased more than once\n",
    "    multiple_purchasers = get_mutliple_purchasers(purchasers_user_action_date)\n",
    "    \n",
    "    return one_time_purchasers, multiple_purchasers"
   ]
  },
  {
   "cell_type": "code",
   "execution_count": 26,
   "metadata": {},
   "outputs": [],
   "source": [
    "def users_with_no_purchases(dataset):\n",
    "    dataset['date'] = pd.to_datetime(dataset[\"date\"])\n",
    "    dataset.sort_values(by=['date'])\n",
    "    grouped = dataset.groupby(['user_id'])\n",
    "    user_action_date = grouped.agg({'action': list, 'date': list}).reset_index()\n",
    "    \n",
    "    non_purchasers_user_action_date = user_action_date[user_action_date.action.apply(lambda x: not 'Purchase' in x)]\n",
    "    non_purchasers_zip_actions_date = non_purchasers_user_action_date.apply(zip_actions_date, axis = 1)\n",
    "    non_purchasers_zip_actions_date = pd.DataFrame(non_purchasers_zip_actions_date.values.tolist(), columns =['user_id', 'actions']) \n",
    "    \n",
    "    return non_purchasers_zip_actions_date\n",
    "    "
   ]
  },
  {
   "cell_type": "code",
   "execution_count": 27,
   "metadata": {},
   "outputs": [],
   "source": [
    "def preprocess_dataset(dataset):\n",
    "    one_time_purchasers, multiple_purchasers = get_single_multiple_purchasers(dataset)\n",
    "    multiple_purchasers_split = split_multiple_purchases_into_single_purchase(multiple_purchasers)\n",
    "    purchases_sliced = pd.concat([one_time_purchasers, multiple_purchasers_split])\n",
    "    purchases = preprocessed_purchasers(purchases_sliced)\n",
    "    \n",
    "\n",
    "    non_purchasers = users_with_no_purchases(dataset)\n",
    "    \n",
    "    # Temporal feature, add context of how many negative offsets the actions happened before actual purchase is being made\n",
    "    purchases_days_prior_limit_60 = add_temporal_feature(purchases)\n",
    "    non_purchases_days_prior_limit_60 = add_temporal_feature(non_purchasers)\n",
    "\n",
    "    #add acivity features\n",
    "    add_activity_related_feature(purchases_days_prior_limit_60)\n",
    "    add_activity_related_feature(non_purchases_days_prior_limit_60)\n",
    "    \n",
    "    non_purchases_days_prior_limit_60[non_purchases_days_prior_limit_60.last_day_activity > 10]\n",
    "    \n",
    "    add_action_type_features(purchases_days_prior_limit_60)\n",
    "    add_action_type_features(non_purchases_days_prior_limit_60)\n",
    "    return purchases_days_prior_limit_60, non_purchases_days_prior_limit_60"
   ]
  },
  {
   "cell_type": "markdown",
   "metadata": {},
   "source": [
    "### Users with no purchases"
   ]
  },
  {
   "cell_type": "code",
   "execution_count": 28,
   "metadata": {},
   "outputs": [],
   "source": [
    "non_purchasers = users_with_no_purchases(training_dataset)"
   ]
  },
  {
   "cell_type": "code",
   "execution_count": 29,
   "metadata": {},
   "outputs": [
    {
     "name": "stdout",
     "output_type": "stream",
     "text": [
      "Number of users NO purchases: 237577\n"
     ]
    }
   ],
   "source": [
    "print('Number of users NO purchases:', non_purchasers.shape[0])"
   ]
  },
  {
   "cell_type": "markdown",
   "metadata": {},
   "source": [
    "### Users with exactly one purchase"
   ]
  },
  {
   "cell_type": "code",
   "execution_count": 30,
   "metadata": {},
   "outputs": [],
   "source": [
    "one_time_purchasers, multiple_purchasers = get_single_multiple_purchasers(training_dataset)"
   ]
  },
  {
   "cell_type": "code",
   "execution_count": 31,
   "metadata": {},
   "outputs": [
    {
     "name": "stdout",
     "output_type": "stream",
     "text": [
      "Number of users with single purchase: 49635\n"
     ]
    }
   ],
   "source": [
    "print('Number of users with single purchase:', one_time_purchasers.shape[0])"
   ]
  },
  {
   "cell_type": "markdown",
   "metadata": {},
   "source": [
    "### Users with more than one purchase"
   ]
  },
  {
   "cell_type": "code",
   "execution_count": 32,
   "metadata": {},
   "outputs": [
    {
     "name": "stdout",
     "output_type": "stream",
     "text": [
      "Number of users with multiple purchases: 54356\n"
     ]
    }
   ],
   "source": [
    "print('Number of users with multiple purchases:', multiple_purchasers.shape[0])"
   ]
  },
  {
   "cell_type": "code",
   "execution_count": 33,
   "metadata": {},
   "outputs": [
    {
     "data": {
      "text/html": [
       "<div>\n",
       "<style scoped>\n",
       "    .dataframe tbody tr th:only-of-type {\n",
       "        vertical-align: middle;\n",
       "    }\n",
       "\n",
       "    .dataframe tbody tr th {\n",
       "        vertical-align: top;\n",
       "    }\n",
       "\n",
       "    .dataframe thead th {\n",
       "        text-align: right;\n",
       "    }\n",
       "</style>\n",
       "<table border=\"1\" class=\"dataframe\">\n",
       "  <thead>\n",
       "    <tr style=\"text-align: right;\">\n",
       "      <th></th>\n",
       "      <th>user_id</th>\n",
       "      <th>actions</th>\n",
       "    </tr>\n",
       "  </thead>\n",
       "  <tbody>\n",
       "    <tr>\n",
       "      <th>0</th>\n",
       "      <td>0000ecf58c94668</td>\n",
       "      <td>[(Purchase, 2013-10-30 00:00:00), (Purchase, 2...</td>\n",
       "    </tr>\n",
       "    <tr>\n",
       "      <th>5</th>\n",
       "      <td>000473d9fd60802</td>\n",
       "      <td>[(Purchase, 2013-07-10 00:00:00), (Purchase, 2...</td>\n",
       "    </tr>\n",
       "    <tr>\n",
       "      <th>6</th>\n",
       "      <td>0005753b743e7a4</td>\n",
       "      <td>[(Purchase, 2013-12-12 00:00:00), (Purchase, 2...</td>\n",
       "    </tr>\n",
       "    <tr>\n",
       "      <th>8</th>\n",
       "      <td>000711b04f50795</td>\n",
       "      <td>[(EmailOpen, 2013-07-01 00:00:00), (EmailOpen,...</td>\n",
       "    </tr>\n",
       "    <tr>\n",
       "      <th>9</th>\n",
       "      <td>00074a7bf0072e1</td>\n",
       "      <td>[(EmailOpen, 2013-07-02 00:00:00), (Purchase, ...</td>\n",
       "    </tr>\n",
       "  </tbody>\n",
       "</table>\n",
       "</div>"
      ],
      "text/plain": [
       "           user_id                                            actions\n",
       "0  0000ecf58c94668  [(Purchase, 2013-10-30 00:00:00), (Purchase, 2...\n",
       "5  000473d9fd60802  [(Purchase, 2013-07-10 00:00:00), (Purchase, 2...\n",
       "6  0005753b743e7a4  [(Purchase, 2013-12-12 00:00:00), (Purchase, 2...\n",
       "8  000711b04f50795  [(EmailOpen, 2013-07-01 00:00:00), (EmailOpen,...\n",
       "9  00074a7bf0072e1  [(EmailOpen, 2013-07-02 00:00:00), (Purchase, ..."
      ]
     },
     "execution_count": 33,
     "metadata": {},
     "output_type": "execute_result"
    }
   ],
   "source": [
    "multiple_purchasers.head()"
   ]
  },
  {
   "cell_type": "code",
   "execution_count": 34,
   "metadata": {},
   "outputs": [
    {
     "data": {
      "text/html": [
       "<div>\n",
       "<style scoped>\n",
       "    .dataframe tbody tr th:only-of-type {\n",
       "        vertical-align: middle;\n",
       "    }\n",
       "\n",
       "    .dataframe tbody tr th {\n",
       "        vertical-align: top;\n",
       "    }\n",
       "\n",
       "    .dataframe thead th {\n",
       "        text-align: right;\n",
       "    }\n",
       "</style>\n",
       "<table border=\"1\" class=\"dataframe\">\n",
       "  <thead>\n",
       "    <tr style=\"text-align: right;\">\n",
       "      <th></th>\n",
       "      <th>user_id</th>\n",
       "      <th>actions</th>\n",
       "    </tr>\n",
       "  </thead>\n",
       "  <tbody>\n",
       "    <tr>\n",
       "      <th>1</th>\n",
       "      <td>000198d39a568cf</td>\n",
       "      <td>[(Purchase, 2014-01-09 00:00:00), (CustomerSup...</td>\n",
       "    </tr>\n",
       "    <tr>\n",
       "      <th>2</th>\n",
       "      <td>00022618457fcf2</td>\n",
       "      <td>[(Purchase, 2013-07-31 00:00:00), (CustomerSup...</td>\n",
       "    </tr>\n",
       "    <tr>\n",
       "      <th>3</th>\n",
       "      <td>000256826de4432</td>\n",
       "      <td>[(Purchase, 2014-10-06 00:00:00), (CustomerSup...</td>\n",
       "    </tr>\n",
       "    <tr>\n",
       "      <th>4</th>\n",
       "      <td>000448571a815df</td>\n",
       "      <td>[(Purchase, 2014-07-08 00:00:00), (CustomerSup...</td>\n",
       "    </tr>\n",
       "    <tr>\n",
       "      <th>7</th>\n",
       "      <td>00068220c7bfc33</td>\n",
       "      <td>[(Purchase, 2014-03-14 00:00:00), (CustomerSup...</td>\n",
       "    </tr>\n",
       "  </tbody>\n",
       "</table>\n",
       "</div>"
      ],
      "text/plain": [
       "           user_id                                            actions\n",
       "1  000198d39a568cf  [(Purchase, 2014-01-09 00:00:00), (CustomerSup...\n",
       "2  00022618457fcf2  [(Purchase, 2013-07-31 00:00:00), (CustomerSup...\n",
       "3  000256826de4432  [(Purchase, 2014-10-06 00:00:00), (CustomerSup...\n",
       "4  000448571a815df  [(Purchase, 2014-07-08 00:00:00), (CustomerSup...\n",
       "7  00068220c7bfc33  [(Purchase, 2014-03-14 00:00:00), (CustomerSup..."
      ]
     },
     "execution_count": 34,
     "metadata": {},
     "output_type": "execute_result"
    }
   ],
   "source": [
    "all_purchasers = pd.concat([one_time_purchasers, multiple_purchasers])\n",
    "all_purchasers.head()"
   ]
  },
  {
   "cell_type": "code",
   "execution_count": 35,
   "metadata": {},
   "outputs": [
    {
     "name": "stdout",
     "output_type": "stream",
     "text": [
      "52.27% of purchasers make more than one purchase\n"
     ]
    }
   ],
   "source": [
    "rate = (multiple_purchasers.shape[0]/all_purchasers.shape[0])*100\n",
    "print('%.2f%% of purchasers make more than one purchase' % rate)"
   ]
  },
  {
   "cell_type": "markdown",
   "metadata": {},
   "source": [
    "### Purchase Frequency"
   ]
  },
  {
   "cell_type": "code",
   "execution_count": 36,
   "metadata": {},
   "outputs": [],
   "source": [
    "def count_purchases(action):\n",
    "    res = 0\n",
    "    for each_action in action:\n",
    "        res += (each_action[0] == 'Purchase')\n",
    "    return res\n",
    "user_purchase = all_purchasers.actions.apply(count_purchases)"
   ]
  },
  {
   "cell_type": "code",
   "execution_count": 37,
   "metadata": {
    "scrolled": true
   },
   "outputs": [
    {
     "data": {
      "image/png": "[encoded data removed]",
      "text/plain": [
       "<Figure size 720x360 with 1 Axes>"
      ]
     },
     "metadata": {
      "needs_background": "light"
     },
     "output_type": "display_data"
    }
   ],
   "source": [
    "plt.figure(figsize=(10,5))\n",
    "sns.barplot(user_purchase.value_counts(normalize=True)[:20].index, user_purchase.value_counts(normalize=True)[:20].values)\n",
    "plt.title('purcases count vs users')\n",
    "plt.ylabel('% of purchased users')\n",
    "plt.xlabel('number of purchases')\n",
    "plt.xticks( rotation='vertical')\n",
    "plt.show()"
   ]
  },
  {
   "cell_type": "markdown",
   "metadata": {},
   "source": [
    "Purchases follow heavy right skew with many users making one purchase. "
   ]
  },
  {
   "cell_type": "code",
   "execution_count": 38,
   "metadata": {},
   "outputs": [
    {
     "data": {
      "text/plain": [
       "count    103991.000000\n",
       "mean          3.798704\n",
       "std           8.387857\n",
       "min           1.000000\n",
       "25%           1.000000\n",
       "50%           2.000000\n",
       "75%           4.000000\n",
       "max         352.000000\n",
       "Name: actions, dtype: float64"
      ]
     },
     "execution_count": 38,
     "metadata": {},
     "output_type": "execute_result"
    }
   ],
   "source": [
    "user_purchase.describe()"
   ]
  },
  {
   "cell_type": "markdown",
   "metadata": {},
   "source": [
    "- 47% of the users likely to make only one purchase\n",
    "- Average of around 3\n",
    "- A user placed 352 orders (woh!)"
   ]
  },
  {
   "cell_type": "markdown",
   "metadata": {},
   "source": [
    "### Number of active days wrt to purchasers and non-purchasers\n"
   ]
  },
  {
   "cell_type": "code",
   "execution_count": 39,
   "metadata": {},
   "outputs": [],
   "source": [
    "def count_active_days(action):\n",
    "    res = []\n",
    "    for each_action in action:\n",
    "        res.append(each_action[1])\n",
    "    date_series = pd.Series(res)\n",
    "    return pd.to_datetime(date_series).nunique()\n",
    "purchasers_active_days = all_purchasers.actions.apply(count_active_days)\n",
    "non_purchasers_active_days = non_purchasers.actions.apply(count_active_days)"
   ]
  },
  {
   "cell_type": "code",
   "execution_count": 40,
   "metadata": {},
   "outputs": [],
   "source": [
    "purchasers_active_days_counts = purchasers_active_days.value_counts()"
   ]
  },
  {
   "cell_type": "code",
   "execution_count": 41,
   "metadata": {},
   "outputs": [
    {
     "data": {
      "text/plain": [
       "2      37322\n",
       "3      13200\n",
       "4       7552\n",
       "5       5029\n",
       "6       3602\n",
       "       ...  \n",
       "569        1\n",
       "464        1\n",
       "528        1\n",
       "424        1\n",
       "511        1\n",
       "Name: actions, Length: 483, dtype: int64"
      ]
     },
     "execution_count": 41,
     "metadata": {},
     "output_type": "execute_result"
    }
   ],
   "source": [
    "purchasers_active_days_counts"
   ]
  },
  {
   "cell_type": "code",
   "execution_count": 173,
   "metadata": {},
   "outputs": [
    {
     "data": {
      "image/png": "[encoded data removed]",
      "text/plain": [
       "<Figure size 720x360 with 1 Axes>"
      ]
     },
     "metadata": {
      "needs_background": "light"
     },
     "output_type": "display_data"
    }
   ],
   "source": [
    "plt.figure(figsize=(10,5))\n",
    "sns.barplot(purchasers_active_days.value_counts(normalize=True)[:20,].index, purchasers_active_days.value_counts(normalize=True)[:20,].values)\n",
    "plt.title('Number of active days (purchasers) to Users')\n",
    "plt.ylabel('% of users')\n",
    "plt.xlabel('Number of active days')\n",
    "plt.xticks( rotation='vertical')\n",
    "plt.show()"
   ]
  },
  {
   "cell_type": "markdown",
   "metadata": {},
   "source": [
    "Purchasers activity has varied range starting for 2 days of activity to 511 days of activity"
   ]
  },
  {
   "cell_type": "code",
   "execution_count": 174,
   "metadata": {},
   "outputs": [
    {
     "data": {
      "text/plain": [
       "1      67987\n",
       "2      34605\n",
       "3      20813\n",
       "4      14886\n",
       "5      11635\n",
       "       ...  \n",
       "279        1\n",
       "436        1\n",
       "308        1\n",
       "335        1\n",
       "255        1\n",
       "Name: actions, Length: 326, dtype: int64"
      ]
     },
     "execution_count": 174,
     "metadata": {},
     "output_type": "execute_result"
    }
   ],
   "source": [
    "non_purchasers_active_days.value_counts()"
   ]
  },
  {
   "cell_type": "code",
   "execution_count": 175,
   "metadata": {},
   "outputs": [
    {
     "data": {
      "image/png": "[encoded data removed]",
      "text/plain": [
       "<Figure size 720x360 with 1 Axes>"
      ]
     },
     "metadata": {
      "needs_background": "light"
     },
     "output_type": "display_data"
    }
   ],
   "source": [
    "plt.figure(figsize=(10,5))\n",
    "sns.barplot(non_purchasers_active_days.value_counts(normalize=True)[:20,].index, non_purchasers_active_days.value_counts(normalize=True)[:20,].values)\n",
    "plt.title('Number of active days (non-purchasers)')\n",
    "plt.ylabel('% of users')\n",
    "plt.xlabel('Number of active days')\n",
    "plt.xticks( rotation='vertical')\n",
    "plt.show()\n"
   ]
  },
  {
   "cell_type": "markdown",
   "metadata": {},
   "source": [
    "- Non Purchasers activity has varied range starting for 2 days of activity to 255 days of activity"
   ]
  },
  {
   "cell_type": "markdown",
   "metadata": {},
   "source": [
    "### How actions vary for purchasers and non purchasers"
   ]
  },
  {
   "cell_type": "code",
   "execution_count": 176,
   "metadata": {},
   "outputs": [],
   "source": [
    "def count_actions(action):\n",
    "    return len(action)\n",
    "purchasers_count_actions = all_purchasers.actions.apply(count_actions)\n",
    "non_purchasers_count_actions = non_purchasers.actions.apply(count_actions)"
   ]
  },
  {
   "cell_type": "code",
   "execution_count": 177,
   "metadata": {},
   "outputs": [
    {
     "data": {
      "text/plain": [
       "2       37303\n",
       "3       12862\n",
       "4        7277\n",
       "5        4864\n",
       "6        3434\n",
       "        ...  \n",
       "703         1\n",
       "2718        1\n",
       "671         1\n",
       "416         1\n",
       "607         1\n",
       "Name: actions, Length: 793, dtype: int64"
      ]
     },
     "execution_count": 177,
     "metadata": {},
     "output_type": "execute_result"
    }
   ],
   "source": [
    "purchasers_count_actions.value_counts()"
   ]
  },
  {
   "cell_type": "code",
   "execution_count": 178,
   "metadata": {},
   "outputs": [
    {
     "data": {
      "text/plain": [
       "1     54558\n",
       "2     18860\n",
       "3     10230\n",
       "4      4260\n",
       "5      2997\n",
       "6      1205\n",
       "7       713\n",
       "8       423\n",
       "9       278\n",
       "10      207\n",
       "11      151\n",
       "12       99\n",
       "13       80\n",
       "14       54\n",
       "16       45\n",
       "15       42\n",
       "17       22\n",
       "18       17\n",
       "20       15\n",
       "19       12\n",
       "28        9\n",
       "21        9\n",
       "22        8\n",
       "23        8\n",
       "25        5\n",
       "27        5\n",
       "26        4\n",
       "29        4\n",
       "31        3\n",
       "24        3\n",
       "30        2\n",
       "33        2\n",
       "57        1\n",
       "46        1\n",
       "54        1\n",
       "51        1\n",
       "50        1\n",
       "47        1\n",
       "35        1\n",
       "43        1\n",
       "41        1\n",
       "38        1\n",
       "37        1\n",
       "32        1\n",
       "60        1\n",
       "Name: actions, dtype: int64"
      ]
     },
     "execution_count": 178,
     "metadata": {},
     "output_type": "execute_result"
    }
   ],
   "source": [
    "non_purchasers_count_actions.value_counts()"
   ]
  },
  {
   "cell_type": "code",
   "execution_count": 188,
   "metadata": {},
   "outputs": [
    {
     "data": {
      "image/png": "[encoded data removed]",
      "text/plain": [
       "<Figure size 720x360 with 1 Axes>"
      ]
     },
     "metadata": {
      "needs_background": "light"
     },
     "output_type": "display_data"
    }
   ],
   "source": [
    "plt.figure(figsize=(10,5))\n",
    "ax = plt.subplot(111)\n",
    "w = 0.5\n",
    "\n",
    "ax.set_xlabel('number of active days')\n",
    "ax.set_ylabel('number of users')\n",
    "\n",
    "\n",
    "ax.set_title('actions activity between purchasers and non purchasers')\n",
    "purchasers = ax.bar(purchasers_count_actions.value_counts()[:40].index, purchasers_count_actions.value_counts()[:40].values, width=w, color='g', align='center')\n",
    "non_purchasers = ax.bar(non_purchasers_count_actions.value_counts()[:40].index + w/2, non_purchasers_count_actions.value_counts()[:40].values, width=w, color='r', align='center')\n",
    "ax.legend((purchasers[0], non_purchasers[0]), ('purchasers', 'non-purchasers'),loc=\"lower right\", bbox_to_anchor=(1., 1.02) , borderaxespad=0., ncol=2)\n",
    "plt.show()"
   ]
  },
  {
   "cell_type": "markdown",
   "metadata": {},
   "source": [
    "Non purchasers seems to do alot more exploration than purchasers but more importantly purchasers seems to do more actions right before the purchase. which is included as feature (temporal) in analysis"
   ]
  },
  {
   "cell_type": "markdown",
   "metadata": {},
   "source": [
    "### Day of the week on which purchase was made\n"
   ]
  },
  {
   "cell_type": "code",
   "execution_count": 189,
   "metadata": {},
   "outputs": [
    {
     "data": {
      "text/html": [
       "<div>\n",
       "<style scoped>\n",
       "    .dataframe tbody tr th:only-of-type {\n",
       "        vertical-align: middle;\n",
       "    }\n",
       "\n",
       "    .dataframe tbody tr th {\n",
       "        vertical-align: top;\n",
       "    }\n",
       "\n",
       "    .dataframe thead th {\n",
       "        text-align: right;\n",
       "    }\n",
       "</style>\n",
       "<table border=\"1\" class=\"dataframe\">\n",
       "  <thead>\n",
       "    <tr style=\"text-align: right;\">\n",
       "      <th></th>\n",
       "      <th>user_id</th>\n",
       "      <th>actions</th>\n",
       "    </tr>\n",
       "  </thead>\n",
       "  <tbody>\n",
       "    <tr>\n",
       "      <th>1</th>\n",
       "      <td>000198d39a568cf</td>\n",
       "      <td>[(Purchase, 2014-01-09 00:00:00), (CustomerSup...</td>\n",
       "    </tr>\n",
       "    <tr>\n",
       "      <th>2</th>\n",
       "      <td>00022618457fcf2</td>\n",
       "      <td>[(Purchase, 2013-07-31 00:00:00), (CustomerSup...</td>\n",
       "    </tr>\n",
       "    <tr>\n",
       "      <th>3</th>\n",
       "      <td>000256826de4432</td>\n",
       "      <td>[(Purchase, 2014-10-06 00:00:00), (CustomerSup...</td>\n",
       "    </tr>\n",
       "    <tr>\n",
       "      <th>4</th>\n",
       "      <td>000448571a815df</td>\n",
       "      <td>[(Purchase, 2014-07-08 00:00:00), (CustomerSup...</td>\n",
       "    </tr>\n",
       "    <tr>\n",
       "      <th>7</th>\n",
       "      <td>00068220c7bfc33</td>\n",
       "      <td>[(Purchase, 2014-03-14 00:00:00), (CustomerSup...</td>\n",
       "    </tr>\n",
       "  </tbody>\n",
       "</table>\n",
       "</div>"
      ],
      "text/plain": [
       "           user_id                                            actions\n",
       "1  000198d39a568cf  [(Purchase, 2014-01-09 00:00:00), (CustomerSup...\n",
       "2  00022618457fcf2  [(Purchase, 2013-07-31 00:00:00), (CustomerSup...\n",
       "3  000256826de4432  [(Purchase, 2014-10-06 00:00:00), (CustomerSup...\n",
       "4  000448571a815df  [(Purchase, 2014-07-08 00:00:00), (CustomerSup...\n",
       "7  00068220c7bfc33  [(Purchase, 2014-03-14 00:00:00), (CustomerSup..."
      ]
     },
     "execution_count": 189,
     "metadata": {},
     "output_type": "execute_result"
    }
   ],
   "source": [
    "all_purchasers.head()"
   ]
  },
  {
   "cell_type": "code",
   "execution_count": 190,
   "metadata": {},
   "outputs": [],
   "source": [
    "def get_purchase_day(action):\n",
    "    for each_action in action:\n",
    "        if each_action[0] == 'Purchase':\n",
    "            return pd.to_datetime(each_action[1]).dayofweek\n",
    "\n",
    "prchase_day_counts = all_purchasers.actions.apply(get_purchase_day).value_counts()"
   ]
  },
  {
   "cell_type": "code",
   "execution_count": 192,
   "metadata": {},
   "outputs": [
    {
     "data": {
      "image/png": "[encoded data removed]",
      "text/plain": [
       "<Figure size 720x360 with 1 Axes>"
      ]
     },
     "metadata": {
      "needs_background": "light"
     },
     "output_type": "display_data"
    }
   ],
   "source": [
    "\n",
    "plt.figure(figsize=(10,5))\n",
    "sns.barplot(['Monday', 'Tuesday', 'Wednesday', 'Thrusday','Friday', 'Saturday', 'Sunday'], prchase_day_counts.values)\n",
    "plt.title('Purchase Vs Week of the day')\n",
    "plt.ylabel('Purchases')\n",
    "plt.xlabel('day of the week')\n",
    "plt.xticks( rotation='vertical')\n",
    "plt.show()"
   ]
  },
  {
   "cell_type": "markdown",
   "metadata": {},
   "source": [
    "- Most of the weekdays have similar purchase trend\n",
    "- Weekend have a less sales when compared to weekdays"
   ]
  },
  {
   "cell_type": "markdown",
   "metadata": {},
   "source": [
    "### Modeling Intent"
   ]
  },
  {
   "cell_type": "markdown",
   "metadata": {},
   "source": [
    "- Activity based features: From the EDA it is understood that activity overall between purchasers and non-purchases doesnot vary much. However the last 3 to 7 days before the purchase seems to give indication who would endup purchasing. There seems to higher activity among purchasers in last few days before purchase. Modeling as feature `active_days`\n",
    "\n",
    "- Another feature is how activity user is on a day, would indicate purchase intent. Purchasers seems to super active on the day of purchase `last_day_activity`\n",
    "\n",
    "- Content related: what actions a user is doing could indicate willingness to buy a product. Modeled in as `'EmailOpen_cnt', 'FormSubmit_cnt', 'EmailClickthrough_cnt','CustomerSupport_cnt', 'PageView_cnt', 'WebVisit_cnt'`\n",
    "\n",
    "- Other features that could be added but not implemented: actions done t-1, t-2, t-3 days prior to purchase"
   ]
  },
  {
   "cell_type": "code",
   "execution_count": 55,
   "metadata": {},
   "outputs": [],
   "source": [
    "training_dataset = pd.read_csv('./training.tsv', sep='\\t', names=['user_id', 'date', 'action'])"
   ]
  },
  {
   "cell_type": "code",
   "execution_count": 56,
   "metadata": {},
   "outputs": [],
   "source": [
    "purchasers, non_purchasers = preprocess_dataset(training_dataset)"
   ]
  },
  {
   "cell_type": "code",
   "execution_count": 126,
   "metadata": {},
   "outputs": [
    {
     "data": {
      "text/html": [
       "<div>\n",
       "<style scoped>\n",
       "    .dataframe tbody tr th:only-of-type {\n",
       "        vertical-align: middle;\n",
       "    }\n",
       "\n",
       "    .dataframe tbody tr th {\n",
       "        vertical-align: top;\n",
       "    }\n",
       "\n",
       "    .dataframe thead th {\n",
       "        text-align: right;\n",
       "    }\n",
       "</style>\n",
       "<table border=\"1\" class=\"dataframe\">\n",
       "  <thead>\n",
       "    <tr style=\"text-align: right;\">\n",
       "      <th></th>\n",
       "      <th>user_id</th>\n",
       "      <th>actions</th>\n",
       "      <th>active_days</th>\n",
       "      <th>last_day_activity</th>\n",
       "      <th>EmailOpen_cnt</th>\n",
       "      <th>FormSubmit_cnt</th>\n",
       "      <th>EmailClickthrough_cnt</th>\n",
       "      <th>CustomerSupport_cnt</th>\n",
       "      <th>PageView_cnt</th>\n",
       "      <th>WebVisit_cnt</th>\n",
       "    </tr>\n",
       "  </thead>\n",
       "  <tbody>\n",
       "    <tr>\n",
       "      <th>0</th>\n",
       "      <td>00002acbe042d69</td>\n",
       "      <td>[(EmailOpen, 32), (FormSubmit, 32), (EmailOpen...</td>\n",
       "      <td>1</td>\n",
       "      <td>1</td>\n",
       "      <td>9</td>\n",
       "      <td>1</td>\n",
       "      <td>0</td>\n",
       "      <td>0</td>\n",
       "      <td>0</td>\n",
       "      <td>0</td>\n",
       "    </tr>\n",
       "    <tr>\n",
       "      <th>2</th>\n",
       "      <td>00012205dd4613b</td>\n",
       "      <td>[(EmailOpen, 28), (EmailOpen, 0)]</td>\n",
       "      <td>1</td>\n",
       "      <td>1</td>\n",
       "      <td>2</td>\n",
       "      <td>0</td>\n",
       "      <td>0</td>\n",
       "      <td>0</td>\n",
       "      <td>0</td>\n",
       "      <td>0</td>\n",
       "    </tr>\n",
       "    <tr>\n",
       "      <th>3</th>\n",
       "      <td>0001b315b991cf0</td>\n",
       "      <td>[(EmailOpen, 0)]</td>\n",
       "      <td>1</td>\n",
       "      <td>1</td>\n",
       "      <td>1</td>\n",
       "      <td>0</td>\n",
       "      <td>0</td>\n",
       "      <td>0</td>\n",
       "      <td>0</td>\n",
       "      <td>0</td>\n",
       "    </tr>\n",
       "    <tr>\n",
       "      <th>4</th>\n",
       "      <td>000269150971d08</td>\n",
       "      <td>[(EmailOpen, 38), (EmailOpen, 32), (EmailOpen,...</td>\n",
       "      <td>1</td>\n",
       "      <td>1</td>\n",
       "      <td>3</td>\n",
       "      <td>0</td>\n",
       "      <td>0</td>\n",
       "      <td>0</td>\n",
       "      <td>0</td>\n",
       "      <td>0</td>\n",
       "    </tr>\n",
       "    <tr>\n",
       "      <th>6</th>\n",
       "      <td>0002f5c71a86aa3</td>\n",
       "      <td>[(EmailOpen, 50), (EmailOpen, 0)]</td>\n",
       "      <td>1</td>\n",
       "      <td>1</td>\n",
       "      <td>2</td>\n",
       "      <td>0</td>\n",
       "      <td>0</td>\n",
       "      <td>0</td>\n",
       "      <td>0</td>\n",
       "      <td>0</td>\n",
       "    </tr>\n",
       "  </tbody>\n",
       "</table>\n",
       "</div>"
      ],
      "text/plain": [
       "           user_id                                            actions  \\\n",
       "0  00002acbe042d69  [(EmailOpen, 32), (FormSubmit, 32), (EmailOpen...   \n",
       "2  00012205dd4613b                  [(EmailOpen, 28), (EmailOpen, 0)]   \n",
       "3  0001b315b991cf0                                   [(EmailOpen, 0)]   \n",
       "4  000269150971d08  [(EmailOpen, 38), (EmailOpen, 32), (EmailOpen,...   \n",
       "6  0002f5c71a86aa3                  [(EmailOpen, 50), (EmailOpen, 0)]   \n",
       "\n",
       "   active_days  last_day_activity  EmailOpen_cnt  FormSubmit_cnt  \\\n",
       "0            1                  1              9               1   \n",
       "2            1                  1              2               0   \n",
       "3            1                  1              1               0   \n",
       "4            1                  1              3               0   \n",
       "6            1                  1              2               0   \n",
       "\n",
       "   EmailClickthrough_cnt  CustomerSupport_cnt  PageView_cnt  WebVisit_cnt  \n",
       "0                      0                    0             0             0  \n",
       "2                      0                    0             0             0  \n",
       "3                      0                    0             0             0  \n",
       "4                      0                    0             0             0  \n",
       "6                      0                    0             0             0  "
      ]
     },
     "execution_count": 126,
     "metadata": {},
     "output_type": "execute_result"
    }
   ],
   "source": [
    "non_purchasers.head()"
   ]
  },
  {
   "cell_type": "code",
   "execution_count": 57,
   "metadata": {},
   "outputs": [],
   "source": [
    " def split_features_labels(purchases_days_prior_limit_60, non_purchases_days_prior_limit_60):\n",
    "    purchases_training = purchases_days_prior_limit_60[['active_days', 'last_day_activity',\n",
    "   'EmailOpen_cnt', 'FormSubmit_cnt', 'EmailClickthrough_cnt',\n",
    "   'CustomerSupport_cnt', 'PageView_cnt', 'WebVisit_cnt']]\n",
    "\n",
    "    non_purchases_training = non_purchases_days_prior_limit_60[['active_days', 'last_day_activity',\n",
    "           'EmailOpen_cnt', 'FormSubmit_cnt', 'EmailClickthrough_cnt',\n",
    "           'CustomerSupport_cnt', 'PageView_cnt', 'WebVisit_cnt']]\n",
    "\n",
    "    positive_labels = (np.array([1]*purchases_training.shape[0]).T).tolist()\n",
    "    purchases_training['label'] = positive_labels\n",
    "\n",
    "    non_purchases_training['label'] = (np.array([0]*non_purchases_training.shape[0]).T).tolist()\n",
    "\n",
    "    proccessed_dataset = pd.concat([purchases_training, non_purchases_training])\n",
    "    labels = np.array(proccessed_dataset['label'])\n",
    "    features = np.array(proccessed_dataset[['active_days', 'last_day_activity', 'EmailOpen_cnt', 'FormSubmit_cnt',\n",
    "           'EmailClickthrough_cnt', 'CustomerSupport_cnt', 'PageView_cnt',\n",
    "           'WebVisit_cnt']])\n",
    "    return features, labels, proccessed_dataset"
   ]
  },
  {
   "cell_type": "code",
   "execution_count": 58,
   "metadata": {},
   "outputs": [
    {
     "name": "stderr",
     "output_type": "stream",
     "text": [
      "/Users/dkurra/miniconda3/lib/python3.7/site-packages/ipykernel_launcher.py:11: SettingWithCopyWarning: \n",
      "A value is trying to be set on a copy of a slice from a DataFrame.\n",
      "Try using .loc[row_indexer,col_indexer] = value instead\n",
      "\n",
      "See the caveats in the documentation: http://pandas.pydata.org/pandas-docs/stable/user_guide/indexing.html#returning-a-view-versus-a-copy\n",
      "  # This is added back by InteractiveShellApp.init_path()\n",
      "/Users/dkurra/miniconda3/lib/python3.7/site-packages/ipykernel_launcher.py:13: SettingWithCopyWarning: \n",
      "A value is trying to be set on a copy of a slice from a DataFrame.\n",
      "Try using .loc[row_indexer,col_indexer] = value instead\n",
      "\n",
      "See the caveats in the documentation: http://pandas.pydata.org/pandas-docs/stable/user_guide/indexing.html#returning-a-view-versus-a-copy\n",
      "  del sys.path[0]\n"
     ]
    }
   ],
   "source": [
    "training_features, training_labels, proccessed_dataset = split_features_labels(purchasers, non_purchasers)"
   ]
  },
  {
   "cell_type": "code",
   "execution_count": 59,
   "metadata": {},
   "outputs": [
    {
     "data": {
      "text/html": [
       "<div>\n",
       "<style scoped>\n",
       "    .dataframe tbody tr th:only-of-type {\n",
       "        vertical-align: middle;\n",
       "    }\n",
       "\n",
       "    .dataframe tbody tr th {\n",
       "        vertical-align: top;\n",
       "    }\n",
       "\n",
       "    .dataframe thead th {\n",
       "        text-align: right;\n",
       "    }\n",
       "</style>\n",
       "<table border=\"1\" class=\"dataframe\">\n",
       "  <thead>\n",
       "    <tr style=\"text-align: right;\">\n",
       "      <th></th>\n",
       "      <th>user_id</th>\n",
       "      <th>actions</th>\n",
       "      <th>active_days</th>\n",
       "      <th>last_day_activity</th>\n",
       "      <th>EmailOpen_cnt</th>\n",
       "      <th>FormSubmit_cnt</th>\n",
       "      <th>EmailClickthrough_cnt</th>\n",
       "      <th>CustomerSupport_cnt</th>\n",
       "      <th>PageView_cnt</th>\n",
       "      <th>WebVisit_cnt</th>\n",
       "    </tr>\n",
       "  </thead>\n",
       "  <tbody>\n",
       "    <tr>\n",
       "      <th>0</th>\n",
       "      <td>000198d39a568cf</td>\n",
       "      <td>[(Purchase, 0)]</td>\n",
       "      <td>1</td>\n",
       "      <td>1</td>\n",
       "      <td>0</td>\n",
       "      <td>0</td>\n",
       "      <td>0</td>\n",
       "      <td>0</td>\n",
       "      <td>0</td>\n",
       "      <td>0</td>\n",
       "    </tr>\n",
       "    <tr>\n",
       "      <th>1</th>\n",
       "      <td>00022618457fcf2</td>\n",
       "      <td>[(Purchase, 0)]</td>\n",
       "      <td>1</td>\n",
       "      <td>1</td>\n",
       "      <td>0</td>\n",
       "      <td>0</td>\n",
       "      <td>0</td>\n",
       "      <td>0</td>\n",
       "      <td>0</td>\n",
       "      <td>0</td>\n",
       "    </tr>\n",
       "    <tr>\n",
       "      <th>2</th>\n",
       "      <td>000256826de4432</td>\n",
       "      <td>[(Purchase, 0)]</td>\n",
       "      <td>1</td>\n",
       "      <td>1</td>\n",
       "      <td>0</td>\n",
       "      <td>0</td>\n",
       "      <td>0</td>\n",
       "      <td>0</td>\n",
       "      <td>0</td>\n",
       "      <td>0</td>\n",
       "    </tr>\n",
       "    <tr>\n",
       "      <th>3</th>\n",
       "      <td>000448571a815df</td>\n",
       "      <td>[(Purchase, 0)]</td>\n",
       "      <td>1</td>\n",
       "      <td>1</td>\n",
       "      <td>0</td>\n",
       "      <td>0</td>\n",
       "      <td>0</td>\n",
       "      <td>0</td>\n",
       "      <td>0</td>\n",
       "      <td>0</td>\n",
       "    </tr>\n",
       "    <tr>\n",
       "      <th>4</th>\n",
       "      <td>00068220c7bfc33</td>\n",
       "      <td>[(Purchase, 0)]</td>\n",
       "      <td>1</td>\n",
       "      <td>1</td>\n",
       "      <td>0</td>\n",
       "      <td>0</td>\n",
       "      <td>0</td>\n",
       "      <td>0</td>\n",
       "      <td>0</td>\n",
       "      <td>0</td>\n",
       "    </tr>\n",
       "  </tbody>\n",
       "</table>\n",
       "</div>"
      ],
      "text/plain": [
       "           user_id          actions  active_days  last_day_activity  \\\n",
       "0  000198d39a568cf  [(Purchase, 0)]            1                  1   \n",
       "1  00022618457fcf2  [(Purchase, 0)]            1                  1   \n",
       "2  000256826de4432  [(Purchase, 0)]            1                  1   \n",
       "3  000448571a815df  [(Purchase, 0)]            1                  1   \n",
       "4  00068220c7bfc33  [(Purchase, 0)]            1                  1   \n",
       "\n",
       "   EmailOpen_cnt  FormSubmit_cnt  EmailClickthrough_cnt  CustomerSupport_cnt  \\\n",
       "0              0               0                      0                    0   \n",
       "1              0               0                      0                    0   \n",
       "2              0               0                      0                    0   \n",
       "3              0               0                      0                    0   \n",
       "4              0               0                      0                    0   \n",
       "\n",
       "   PageView_cnt  WebVisit_cnt  \n",
       "0             0             0  \n",
       "1             0             0  \n",
       "2             0             0  \n",
       "3             0             0  \n",
       "4             0             0  "
      ]
     },
     "execution_count": 59,
     "metadata": {},
     "output_type": "execute_result"
    }
   ],
   "source": [
    "purchasers.head()"
   ]
  },
  {
   "cell_type": "code",
   "execution_count": 60,
   "metadata": {},
   "outputs": [
    {
     "data": {
      "text/plain": [
       "Index(['active_days', 'last_day_activity', 'EmailOpen_cnt', 'FormSubmit_cnt',\n",
       "       'EmailClickthrough_cnt', 'CustomerSupport_cnt', 'PageView_cnt',\n",
       "       'WebVisit_cnt', 'label'],\n",
       "      dtype='object')"
      ]
     },
     "execution_count": 60,
     "metadata": {},
     "output_type": "execute_result"
    }
   ],
   "source": [
    "proccessed_dataset.columns"
   ]
  },
  {
   "cell_type": "code",
   "execution_count": 61,
   "metadata": {},
   "outputs": [],
   "source": [
    "proccessed_dataset = proccessed_dataset.sample(frac=1).reset_index(drop=True)"
   ]
  },
  {
   "cell_type": "code",
   "execution_count": 62,
   "metadata": {},
   "outputs": [],
   "source": [
    "train_X_df = proccessed_dataset[['active_days', 'last_day_activity', 'EmailOpen_cnt', 'FormSubmit_cnt',\n",
    "       'EmailClickthrough_cnt', 'CustomerSupport_cnt', 'PageView_cnt',\n",
    "       'WebVisit_cnt']]\n",
    "\n",
    "train_y_df = proccessed_dataset[['label']]"
   ]
  },
  {
   "cell_type": "markdown",
   "metadata": {},
   "source": [
    "### Final Features used for Modeling"
   ]
  },
  {
   "cell_type": "markdown",
   "metadata": {},
   "source": [
    "- 'active_days'\n",
    "- 'last_day_activity'\n",
    "- 'EmailOpen_cnt'\n",
    "- 'FormSubmit_cnt',\n",
    "- 'EmailClickthrough_cnt'\n",
    "- 'CustomerSupport_cnt'\n",
    "- 'PageView_cnt'\n",
    "- 'WebVisit_cnt'"
   ]
  },
  {
   "cell_type": "markdown",
   "metadata": {},
   "source": [
    "### User actions between purchasers and non purchasers"
   ]
  },
  {
   "cell_type": "code",
   "execution_count": 63,
   "metadata": {},
   "outputs": [
    {
     "data": {
      "text/html": [
       "<div>\n",
       "<style scoped>\n",
       "    .dataframe tbody tr th:only-of-type {\n",
       "        vertical-align: middle;\n",
       "    }\n",
       "\n",
       "    .dataframe tbody tr th {\n",
       "        vertical-align: top;\n",
       "    }\n",
       "\n",
       "    .dataframe thead th {\n",
       "        text-align: right;\n",
       "    }\n",
       "</style>\n",
       "<table border=\"1\" class=\"dataframe\">\n",
       "  <thead>\n",
       "    <tr style=\"text-align: right;\">\n",
       "      <th></th>\n",
       "      <th>user_id</th>\n",
       "      <th>actions</th>\n",
       "      <th>active_days</th>\n",
       "      <th>last_day_activity</th>\n",
       "      <th>EmailOpen_cnt</th>\n",
       "      <th>FormSubmit_cnt</th>\n",
       "      <th>EmailClickthrough_cnt</th>\n",
       "      <th>CustomerSupport_cnt</th>\n",
       "      <th>PageView_cnt</th>\n",
       "      <th>WebVisit_cnt</th>\n",
       "    </tr>\n",
       "  </thead>\n",
       "  <tbody>\n",
       "    <tr>\n",
       "      <th>0</th>\n",
       "      <td>000198d39a568cf</td>\n",
       "      <td>[(Purchase, 0)]</td>\n",
       "      <td>1</td>\n",
       "      <td>1</td>\n",
       "      <td>0</td>\n",
       "      <td>0</td>\n",
       "      <td>0</td>\n",
       "      <td>0</td>\n",
       "      <td>0</td>\n",
       "      <td>0</td>\n",
       "    </tr>\n",
       "    <tr>\n",
       "      <th>1</th>\n",
       "      <td>00022618457fcf2</td>\n",
       "      <td>[(Purchase, 0)]</td>\n",
       "      <td>1</td>\n",
       "      <td>1</td>\n",
       "      <td>0</td>\n",
       "      <td>0</td>\n",
       "      <td>0</td>\n",
       "      <td>0</td>\n",
       "      <td>0</td>\n",
       "      <td>0</td>\n",
       "    </tr>\n",
       "    <tr>\n",
       "      <th>2</th>\n",
       "      <td>000256826de4432</td>\n",
       "      <td>[(Purchase, 0)]</td>\n",
       "      <td>1</td>\n",
       "      <td>1</td>\n",
       "      <td>0</td>\n",
       "      <td>0</td>\n",
       "      <td>0</td>\n",
       "      <td>0</td>\n",
       "      <td>0</td>\n",
       "      <td>0</td>\n",
       "    </tr>\n",
       "    <tr>\n",
       "      <th>3</th>\n",
       "      <td>000448571a815df</td>\n",
       "      <td>[(Purchase, 0)]</td>\n",
       "      <td>1</td>\n",
       "      <td>1</td>\n",
       "      <td>0</td>\n",
       "      <td>0</td>\n",
       "      <td>0</td>\n",
       "      <td>0</td>\n",
       "      <td>0</td>\n",
       "      <td>0</td>\n",
       "    </tr>\n",
       "    <tr>\n",
       "      <th>4</th>\n",
       "      <td>00068220c7bfc33</td>\n",
       "      <td>[(Purchase, 0)]</td>\n",
       "      <td>1</td>\n",
       "      <td>1</td>\n",
       "      <td>0</td>\n",
       "      <td>0</td>\n",
       "      <td>0</td>\n",
       "      <td>0</td>\n",
       "      <td>0</td>\n",
       "      <td>0</td>\n",
       "    </tr>\n",
       "  </tbody>\n",
       "</table>\n",
       "</div>"
      ],
      "text/plain": [
       "           user_id          actions  active_days  last_day_activity  \\\n",
       "0  000198d39a568cf  [(Purchase, 0)]            1                  1   \n",
       "1  00022618457fcf2  [(Purchase, 0)]            1                  1   \n",
       "2  000256826de4432  [(Purchase, 0)]            1                  1   \n",
       "3  000448571a815df  [(Purchase, 0)]            1                  1   \n",
       "4  00068220c7bfc33  [(Purchase, 0)]            1                  1   \n",
       "\n",
       "   EmailOpen_cnt  FormSubmit_cnt  EmailClickthrough_cnt  CustomerSupport_cnt  \\\n",
       "0              0               0                      0                    0   \n",
       "1              0               0                      0                    0   \n",
       "2              0               0                      0                    0   \n",
       "3              0               0                      0                    0   \n",
       "4              0               0                      0                    0   \n",
       "\n",
       "   PageView_cnt  WebVisit_cnt  \n",
       "0             0             0  \n",
       "1             0             0  \n",
       "2             0             0  \n",
       "3             0             0  \n",
       "4             0             0  "
      ]
     },
     "execution_count": 63,
     "metadata": {},
     "output_type": "execute_result"
    }
   ],
   "source": [
    "purchasers.head()"
   ]
  },
  {
   "cell_type": "code",
   "execution_count": 131,
   "metadata": {},
   "outputs": [],
   "source": [
    "actions = ['EmailOpen_cnt', 'FormSubmit_cnt','EmailClickthrough_cnt', 'PageView_cnt',\n",
    "       'WebVisit_cnt']\n",
    "\n",
    "purchases_actions_count = collections.defaultdict()\n",
    "for a in actions:\n",
    "    purchases_actions_count[a] = purchasers[a].sum()\n",
    "    \n",
    "non_purchases_actions_count = collections.defaultdict()   \n",
    "\n",
    "for a in actions:\n",
    "    non_purchases_actions_count[a] = non_purchasers[a].sum()\n"
   ]
  },
  {
   "cell_type": "code",
   "execution_count": 133,
   "metadata": {},
   "outputs": [
    {
     "data": {
      "text/plain": [
       "defaultdict(None,\n",
       "            {'EmailOpen_cnt': 347328,\n",
       "             'FormSubmit_cnt': 30473,\n",
       "             'EmailClickthrough_cnt': 48875,\n",
       "             'PageView_cnt': 91003,\n",
       "             'WebVisit_cnt': 90582})"
      ]
     },
     "execution_count": 133,
     "metadata": {},
     "output_type": "execute_result"
    }
   ],
   "source": [
    "purchases_actions_count"
   ]
  },
  {
   "cell_type": "code",
   "execution_count": 134,
   "metadata": {},
   "outputs": [],
   "source": [
    "p_index = list(purchases_actions_count.keys())\n",
    "p_values = list(purchases_actions_count.values())"
   ]
  },
  {
   "cell_type": "code",
   "execution_count": 135,
   "metadata": {},
   "outputs": [],
   "source": [
    "n_index = list(non_purchases_actions_count.keys())\n",
    "n_values = list(non_purchases_actions_count.values())"
   ]
  },
  {
   "cell_type": "code",
   "execution_count": 136,
   "metadata": {},
   "outputs": [
    {
     "data": {
      "image/png": "[encoded data removed]",
      "text/plain": [
       "<Figure size 432x288 with 1 Axes>"
      ]
     },
     "metadata": {
      "needs_background": "light"
     },
     "output_type": "display_data"
    }
   ],
   "source": [
    "d = {\n",
    "    'purchasers': purchases_actions_count,\n",
    "    'non_purchasers': non_purchases_actions_count\n",
    "}\n",
    "pd.DataFrame(d).plot(kind='bar')\n",
    "plt.show()"
   ]
  },
  {
   "cell_type": "markdown",
   "metadata": {},
   "source": [
    "- Purchasers  have high content expoloration (PageView, Website visit, emailClickThrought, EmailOpen) than Non purchasers"
   ]
  },
  {
   "cell_type": "code",
   "execution_count": null,
   "metadata": {},
   "outputs": [],
   "source": [
    "train_features, test_features, train_labels, test_labels = train_test_split(training_features, training_labels, test_size = 0.25, random_state = 42)"
   ]
  },
  {
   "cell_type": "markdown",
   "metadata": {},
   "source": [
    "### Test set"
   ]
  },
  {
   "cell_type": "markdown",
   "metadata": {},
   "source": [
    "Load the testing data"
   ]
  },
  {
   "cell_type": "code",
   "execution_count": 71,
   "metadata": {},
   "outputs": [],
   "source": [
    "test_dataset = pd.read_csv('./test.tsv', sep='\\t', names=['user_id', 'date', 'action'])"
   ]
  },
  {
   "cell_type": "code",
   "execution_count": 72,
   "metadata": {},
   "outputs": [],
   "source": [
    "def preprocess_dataset(dataset):\n",
    "    dataset['date'] = pd.to_datetime(dataset[\"date\"])\n",
    "    dataset.sort_values(by=['date'])\n",
    "    grouped = dataset.groupby(['user_id'])\n",
    "    user_action_date = grouped.agg({'action': list, 'date': list}).reset_index()    \n",
    "    non_purchasers_user_action_date = user_action_date[user_action_date.action.apply(lambda x: not 'Purchase' in x)]\n",
    "    non_purchasers_zip_actions_date = non_purchasers_user_action_date.apply(zip_actions_date, axis = 1)\n",
    "    non_purchasers_zip_actions_date = pd.DataFrame(non_purchasers_zip_actions_date.values.tolist(), columns =['user_id', 'actions']) \n",
    "    non_purchasers = non_purchasers_zip_actions_date\n",
    "    \n",
    "    # Temporal feature, all day related info\n",
    "    non_purchases_days_prior_limit_60 = add_temporal_feature(non_purchasers)\n",
    "    add_activity_related_feature(non_purchases_days_prior_limit_60)    \n",
    "    non_purchases_days_prior_limit_60[non_purchases_days_prior_limit_60.last_day_activity > 10]\n",
    "    add_action_type_features(non_purchases_days_prior_limit_60)\n",
    "    return non_purchases_days_prior_limit_60"
   ]
  },
  {
   "cell_type": "code",
   "execution_count": 73,
   "metadata": {},
   "outputs": [],
   "source": [
    " def split_features_labels_test(test_records):\n",
    "    test_records = test_records[['active_days', 'last_day_activity',\n",
    "           'EmailOpen_cnt', 'FormSubmit_cnt', 'EmailClickthrough_cnt',\n",
    "           'CustomerSupport_cnt', 'PageView_cnt', 'WebVisit_cnt']]\n",
    "\n",
    "\n",
    "    features = np.array(test_records[['active_days', 'last_day_activity', 'EmailOpen_cnt', 'FormSubmit_cnt',\n",
    "           'EmailClickthrough_cnt', 'CustomerSupport_cnt', 'PageView_cnt',\n",
    "           'WebVisit_cnt']])\n",
    "    return features, test_records"
   ]
  },
  {
   "cell_type": "code",
   "execution_count": 74,
   "metadata": {},
   "outputs": [],
   "source": [
    "records = preprocess_dataset(test_dataset)"
   ]
  },
  {
   "cell_type": "code",
   "execution_count": 75,
   "metadata": {},
   "outputs": [
    {
     "data": {
      "text/html": [
       "<div>\n",
       "<style scoped>\n",
       "    .dataframe tbody tr th:only-of-type {\n",
       "        vertical-align: middle;\n",
       "    }\n",
       "\n",
       "    .dataframe tbody tr th {\n",
       "        vertical-align: top;\n",
       "    }\n",
       "\n",
       "    .dataframe thead th {\n",
       "        text-align: right;\n",
       "    }\n",
       "</style>\n",
       "<table border=\"1\" class=\"dataframe\">\n",
       "  <thead>\n",
       "    <tr style=\"text-align: right;\">\n",
       "      <th></th>\n",
       "      <th>user_id</th>\n",
       "      <th>actions</th>\n",
       "      <th>active_days</th>\n",
       "      <th>last_day_activity</th>\n",
       "      <th>EmailOpen_cnt</th>\n",
       "      <th>FormSubmit_cnt</th>\n",
       "      <th>EmailClickthrough_cnt</th>\n",
       "      <th>CustomerSupport_cnt</th>\n",
       "      <th>PageView_cnt</th>\n",
       "      <th>WebVisit_cnt</th>\n",
       "    </tr>\n",
       "  </thead>\n",
       "  <tbody>\n",
       "    <tr>\n",
       "      <th>1</th>\n",
       "      <td>000132f21724ee2</td>\n",
       "      <td>[(EmailClickthrough, 0), (EmailOpen, 0)]</td>\n",
       "      <td>2</td>\n",
       "      <td>2</td>\n",
       "      <td>1</td>\n",
       "      <td>0</td>\n",
       "      <td>1</td>\n",
       "      <td>0</td>\n",
       "      <td>0</td>\n",
       "      <td>0</td>\n",
       "    </tr>\n",
       "    <tr>\n",
       "      <th>2</th>\n",
       "      <td>0001b315b991cf0</td>\n",
       "      <td>[(EmailOpen, 55), (EmailOpen, 1), (EmailOpen, 0)]</td>\n",
       "      <td>2</td>\n",
       "      <td>1</td>\n",
       "      <td>3</td>\n",
       "      <td>0</td>\n",
       "      <td>0</td>\n",
       "      <td>0</td>\n",
       "      <td>0</td>\n",
       "      <td>0</td>\n",
       "    </tr>\n",
       "    <tr>\n",
       "      <th>3</th>\n",
       "      <td>000269150971d08</td>\n",
       "      <td>[(EmailOpen, 51), (EmailOpen, 30), (EmailOpen,...</td>\n",
       "      <td>1</td>\n",
       "      <td>1</td>\n",
       "      <td>4</td>\n",
       "      <td>0</td>\n",
       "      <td>0</td>\n",
       "      <td>0</td>\n",
       "      <td>0</td>\n",
       "      <td>0</td>\n",
       "    </tr>\n",
       "    <tr>\n",
       "      <th>4</th>\n",
       "      <td>000297ba4fa5026</td>\n",
       "      <td>[(EmailOpen, 54), (EmailOpen, 53), (EmailOpen,...</td>\n",
       "      <td>1</td>\n",
       "      <td>1</td>\n",
       "      <td>3</td>\n",
       "      <td>0</td>\n",
       "      <td>0</td>\n",
       "      <td>0</td>\n",
       "      <td>0</td>\n",
       "      <td>0</td>\n",
       "    </tr>\n",
       "    <tr>\n",
       "      <th>6</th>\n",
       "      <td>0003b304dd7cfae</td>\n",
       "      <td>[(EmailOpen, 0)]</td>\n",
       "      <td>1</td>\n",
       "      <td>1</td>\n",
       "      <td>1</td>\n",
       "      <td>0</td>\n",
       "      <td>0</td>\n",
       "      <td>0</td>\n",
       "      <td>0</td>\n",
       "      <td>0</td>\n",
       "    </tr>\n",
       "  </tbody>\n",
       "</table>\n",
       "</div>"
      ],
      "text/plain": [
       "           user_id                                            actions  \\\n",
       "1  000132f21724ee2           [(EmailClickthrough, 0), (EmailOpen, 0)]   \n",
       "2  0001b315b991cf0  [(EmailOpen, 55), (EmailOpen, 1), (EmailOpen, 0)]   \n",
       "3  000269150971d08  [(EmailOpen, 51), (EmailOpen, 30), (EmailOpen,...   \n",
       "4  000297ba4fa5026  [(EmailOpen, 54), (EmailOpen, 53), (EmailOpen,...   \n",
       "6  0003b304dd7cfae                                   [(EmailOpen, 0)]   \n",
       "\n",
       "   active_days  last_day_activity  EmailOpen_cnt  FormSubmit_cnt  \\\n",
       "1            2                  2              1               0   \n",
       "2            2                  1              3               0   \n",
       "3            1                  1              4               0   \n",
       "4            1                  1              3               0   \n",
       "6            1                  1              1               0   \n",
       "\n",
       "   EmailClickthrough_cnt  CustomerSupport_cnt  PageView_cnt  WebVisit_cnt  \n",
       "1                      1                    0             0             0  \n",
       "2                      0                    0             0             0  \n",
       "3                      0                    0             0             0  \n",
       "4                      0                    0             0             0  \n",
       "6                      0                    0             0             0  "
      ]
     },
     "execution_count": 75,
     "metadata": {},
     "output_type": "execute_result"
    }
   ],
   "source": [
    "records.head()"
   ]
  },
  {
   "cell_type": "code",
   "execution_count": 76,
   "metadata": {},
   "outputs": [],
   "source": [
    "test_features, proccessed_test_dataset = split_features_labels_test(records)"
   ]
  },
  {
   "cell_type": "code",
   "execution_count": 77,
   "metadata": {},
   "outputs": [],
   "source": [
    "proccessed_test_dataset = proccessed_test_dataset.sample(frac=1).reset_index(drop=True)"
   ]
  },
  {
   "cell_type": "code",
   "execution_count": 78,
   "metadata": {},
   "outputs": [],
   "source": [
    "test_X_df = proccessed_test_dataset[['active_days', 'last_day_activity', 'EmailOpen_cnt', 'FormSubmit_cnt',\n",
    "       'EmailClickthrough_cnt', 'CustomerSupport_cnt', 'PageView_cnt',\n",
    "       'WebVisit_cnt']]"
   ]
  },
  {
   "cell_type": "code",
   "execution_count": 79,
   "metadata": {},
   "outputs": [],
   "source": [
    "user_ids = records.user_id"
   ]
  },
  {
   "cell_type": "markdown",
   "metadata": {},
   "source": [
    "### Modeling using  XG Boost\n"
   ]
  },
  {
   "cell_type": "code",
   "execution_count": 80,
   "metadata": {},
   "outputs": [],
   "source": [
    "model = xgboost.XGBClassifier()\n",
    "kfold = KFold(n_splits=10, random_state=7)"
   ]
  },
  {
   "cell_type": "code",
   "execution_count": 83,
   "metadata": {},
   "outputs": [],
   "source": [
    "def plot_roc_curve(fprs, tprs):\n",
    "    \"\"\"Plot the Receiver Operating Characteristic from a list\n",
    "    of true positive rates and false positive rates.\"\"\"\n",
    "    \n",
    "    # Initialize useful lists + the plot axes.\n",
    "    tprs_interp = []\n",
    "    aucs = []\n",
    "    mean_fpr = np.linspace(0, 1, 100)\n",
    "    f, ax = plt.subplots(figsize=(14,10))\n",
    "    \n",
    "    # Plot ROC for each K-Fold + compute AUC scores.\n",
    "    for i, (fpr, tpr) in enumerate(zip(fprs, tprs)):\n",
    "        tprs_interp.append(np.interp(mean_fpr, fpr, tpr))\n",
    "        tprs_interp[-1][0] = 0.0\n",
    "        roc_auc = auc(fpr, tpr)\n",
    "        aucs.append(roc_auc)\n",
    "        ax.plot(fpr, tpr, lw=1, alpha=0.3,\n",
    "                 label='ROC fold %d (AUC = %0.2f)' % (i, roc_auc))\n",
    "        \n",
    "    # Plot the luck line.\n",
    "    plt.plot([0, 1], [0, 1], linestyle='--', lw=2, color='r',\n",
    "             label='Luck', alpha=.8)\n",
    "    \n",
    "    # Plot the mean ROC.\n",
    "    mean_tpr = np.mean(tprs_interp, axis=0)\n",
    "    mean_tpr[-1] = 1.0\n",
    "    mean_auc = auc(mean_fpr, mean_tpr)\n",
    "    std_auc = np.std(aucs)\n",
    "    ax.plot(mean_fpr, mean_tpr, color='b',\n",
    "             label=r'Mean ROC (AUC = %0.2f $\\pm$ %0.2f)' % (mean_auc, std_auc),\n",
    "             lw=2, alpha=.8)\n",
    "    \n",
    "    # Plot the standard deviation around the mean ROC.\n",
    "    std_tpr = np.std(tprs_interp, axis=0)\n",
    "    tprs_upper = np.minimum(mean_tpr + std_tpr, 1)\n",
    "    tprs_lower = np.maximum(mean_tpr - std_tpr, 0)\n",
    "    ax.fill_between(mean_fpr, tprs_lower, tprs_upper, color='grey', alpha=.2,\n",
    "                     label=r'$\\pm$ 1 std. dev.')\n",
    "    \n",
    "    # Fine tune and show the plot.\n",
    "    ax.set_xlim([-0.05, 1.05])\n",
    "    ax.set_ylim([-0.05, 1.05])\n",
    "    ax.set_xlabel('False Positive Rate')\n",
    "    ax.set_ylabel('True Positive Rate')\n",
    "    ax.set_title('Receiver operating characteristic')\n",
    "    ax.legend(loc=\"lower right\")\n",
    "    plt.show()\n",
    "    return (f, ax)\n",
    "\n",
    "def compute_roc_auc(index):\n",
    "    y_predict = clf.predict_proba(train_X_df.iloc[index])[:,1]\n",
    "    fpr, tpr, thresholds = roc_curve(train_y_df.iloc[index], y_predict)\n",
    "    auc_score = auc(fpr, tpr)\n",
    "    return fpr, tpr, auc_score"
   ]
  },
  {
   "cell_type": "code",
   "execution_count": 87,
   "metadata": {},
   "outputs": [
    {
     "name": "stdout",
     "output_type": "stream",
     "text": [
      "Fitting 3 folds for each of 25 candidates, totalling 75 fits\n"
     ]
    },
    {
     "name": "stderr",
     "output_type": "stream",
     "text": [
      "/Users/dkurra/miniconda3/lib/python3.7/site-packages/sklearn/model_selection/_split.py:2053: FutureWarning: You should specify a value for 'cv' instead of relying on the default value. The default value will change from 3 to 5 in version 0.22.\n",
      "  warnings.warn(CV_WARNING, FutureWarning)\n",
      "[Parallel(n_jobs=-1)]: Using backend LokyBackend with 8 concurrent workers.\n",
      "[Parallel(n_jobs=-1)]: Done  16 tasks      | elapsed:  3.1min\n",
      "[Parallel(n_jobs=-1)]: Done  75 out of  75 | elapsed: 13.1min finished\n",
      "/Users/dkurra/miniconda3/lib/python3.7/site-packages/sklearn/model_selection/_split.py:2053: FutureWarning: You should specify a value for 'cv' instead of relying on the default value. The default value will change from 3 to 5 in version 0.22.\n",
      "  warnings.warn(CV_WARNING, FutureWarning)\n",
      "[Parallel(n_jobs=-1)]: Using backend LokyBackend with 8 concurrent workers.\n"
     ]
    },
    {
     "name": "stdout",
     "output_type": "stream",
     "text": [
      "Fitting 3 folds for each of 25 candidates, totalling 75 fits\n"
     ]
    },
    {
     "name": "stderr",
     "output_type": "stream",
     "text": [
      "[Parallel(n_jobs=-1)]: Done  16 tasks      | elapsed:  2.9min\n",
      "[Parallel(n_jobs=-1)]: Done  75 out of  75 | elapsed: 12.1min finished\n",
      "/Users/dkurra/miniconda3/lib/python3.7/site-packages/sklearn/model_selection/_split.py:2053: FutureWarning: You should specify a value for 'cv' instead of relying on the default value. The default value will change from 3 to 5 in version 0.22.\n",
      "  warnings.warn(CV_WARNING, FutureWarning)\n",
      "[Parallel(n_jobs=-1)]: Using backend LokyBackend with 8 concurrent workers.\n"
     ]
    },
    {
     "name": "stdout",
     "output_type": "stream",
     "text": [
      "Fitting 3 folds for each of 25 candidates, totalling 75 fits\n"
     ]
    },
    {
     "name": "stderr",
     "output_type": "stream",
     "text": [
      "[Parallel(n_jobs=-1)]: Done  16 tasks      | elapsed:  3.3min\n",
      "[Parallel(n_jobs=-1)]: Done  75 out of  75 | elapsed: 13.5min finished\n"
     ]
    },
    {
     "data": {
      "image/png": "[encoded data removed]",
      "text/plain": [
       "<Figure size 1008x720 with 1 Axes>"
      ]
     },
     "metadata": {
      "needs_background": "light"
     },
     "output_type": "display_data"
    },
    {
     "data": {
      "text/html": [
       "<div>\n",
       "<style scoped>\n",
       "    .dataframe tbody tr th:only-of-type {\n",
       "        vertical-align: middle;\n",
       "    }\n",
       "\n",
       "    .dataframe tbody tr th {\n",
       "        vertical-align: top;\n",
       "    }\n",
       "\n",
       "    .dataframe thead th {\n",
       "        text-align: right;\n",
       "    }\n",
       "</style>\n",
       "<table border=\"1\" class=\"dataframe\">\n",
       "  <thead>\n",
       "    <tr style=\"text-align: right;\">\n",
       "      <th></th>\n",
       "      <th>AUC Train</th>\n",
       "      <th>AUC Test</th>\n",
       "    </tr>\n",
       "  </thead>\n",
       "  <tbody>\n",
       "    <tr>\n",
       "      <th>0</th>\n",
       "      <td>0.977497</td>\n",
       "      <td>0.977430</td>\n",
       "    </tr>\n",
       "    <tr>\n",
       "      <th>1</th>\n",
       "      <td>0.977646</td>\n",
       "      <td>0.977130</td>\n",
       "    </tr>\n",
       "    <tr>\n",
       "      <th>2</th>\n",
       "      <td>0.978233</td>\n",
       "      <td>0.976741</td>\n",
       "    </tr>\n",
       "  </tbody>\n",
       "</table>\n",
       "</div>"
      ],
      "text/plain": [
       "   AUC Train  AUC Test\n",
       "0   0.977497  0.977430\n",
       "1   0.977646  0.977130\n",
       "2   0.978233  0.976741"
      ]
     },
     "execution_count": 87,
     "metadata": {},
     "output_type": "execute_result"
    }
   ],
   "source": [
    "clf_xgb = xgboost.XGBClassifier(objective = 'binary:logistic')\n",
    "param_dist = {'n_estimators': stats.randint(150, 500),\n",
    "              'learning_rate': stats.uniform(0.01, 0.07),\n",
    "              'subsample': stats.uniform(0.3, 0.7),\n",
    "              'max_depth': [3, 4, 5, 6, 7, 8, 9],\n",
    "              'colsample_bytree': stats.uniform(0.5, 0.45),\n",
    "              'min_child_weight': [1, 2, 3]\n",
    "             }\n",
    "clf = RandomizedSearchCV(clf_xgb, param_distributions = param_dist, n_iter = 25, scoring = 'f1', error_score = 0, verbose = 3, n_jobs = -1)\n",
    "\n",
    "numFolds = 3\n",
    "folds = KFold(n_splits = numFolds, shuffle = True)\n",
    "\n",
    "estimators = []\n",
    "results = pd.DataFrame(columns=['training_score', 'test_score'])\n",
    "fprs, tprs, scores = [], [], []\n",
    "results = np.zeros(len(train_X_df))\n",
    "score = 0.0\n",
    "for train_index, test_index in folds.split(train_X_df):\n",
    "    X_train, X_test = train_X_df.iloc[train_index,:], train_X_df.iloc[test_index,:]\n",
    "    y_train, y_test = train_y_df.iloc[train_index].values.ravel(), train_y_df.iloc[test_index].values.ravel()\n",
    "    clf.fit(X_train, y_train)\n",
    "    _, _, auc_score_train = compute_roc_auc(train_index)\n",
    "    fpr, tpr, auc_score = compute_roc_auc(test_index)\n",
    "    scores.append((auc_score_train, auc_score))\n",
    "    fprs.append(fpr)\n",
    "    tprs.append(tpr)\n",
    "\n",
    "    estimators.append(clf.best_estimator_)\n",
    "    results[test_index] = clf.predict(X_test)\n",
    "    score += f1_score(y_test, results[test_index])\n",
    "score /= numFolds\n",
    "\n",
    "plot_roc_curve(fprs, tprs);\n",
    "pd.DataFrame(scores, columns=['AUC Train', 'AUC Test'])"
   ]
  },
  {
   "cell_type": "code",
   "execution_count": 197,
   "metadata": {},
   "outputs": [
    {
     "name": "stdout",
     "output_type": "stream",
     "text": [
      "95.86% Average score using XGBoost\n"
     ]
    }
   ],
   "source": [
    "print('%.2f%% Average score using XGBoost' % (score*100))"
   ]
  },
  {
   "cell_type": "markdown",
   "metadata": {},
   "source": [
    "### Feature importance"
   ]
  },
  {
   "cell_type": "code",
   "execution_count": 152,
   "metadata": {},
   "outputs": [],
   "source": [
    "f = 'gain'\n",
    "importances = clf.best_estimator_.feature_importances_\n",
    "indices = np.argsort(importances)[::-1]"
   ]
  },
  {
   "cell_type": "code",
   "execution_count": 153,
   "metadata": {},
   "outputs": [
    {
     "data": {
      "text/plain": [
       "array([0.12134972, 0.08448373, 0.31720576, 0.31269085, 0.10717899,\n",
       "       0.        , 0.02322705, 0.03386386], dtype=float32)"
      ]
     },
     "execution_count": 153,
     "metadata": {},
     "output_type": "execute_result"
    }
   ],
   "source": [
    "importances"
   ]
  },
  {
   "cell_type": "code",
   "execution_count": 155,
   "metadata": {},
   "outputs": [
    {
     "data": {
      "text/plain": [
       "<matplotlib.axes._subplots.AxesSubplot at 0x1d18893ba8>"
      ]
     },
     "execution_count": 155,
     "metadata": {},
     "output_type": "execute_result"
    },
    {
     "data": {
      "image/png": "[encoded data removed]",
      "text/plain": [
       "<Figure size 432x288 with 1 Axes>"
      ]
     },
     "metadata": {
      "needs_background": "light"
     },
     "output_type": "display_data"
    }
   ],
   "source": [
    "(pd.Series(clf.best_estimator_.feature_importances_, index=train_X_df.columns)\n",
    "   .nlargest(7)\n",
    "   .plot(kind='barh')) "
   ]
  },
  {
   "cell_type": "markdown",
   "metadata": {},
   "source": [
    "EmailOpen actions seems provide good estimator of purchaser behaviour, and least is with pageView action"
   ]
  },
  {
   "cell_type": "markdown",
   "metadata": {},
   "source": [
    "### Getting purchase probable users on Test data"
   ]
  },
  {
   "cell_type": "code",
   "execution_count": 199,
   "metadata": {},
   "outputs": [],
   "source": [
    "# predict on the trained model\n",
    "test_user_predictions = clf.predict(test_X_df)"
   ]
  },
  {
   "cell_type": "code",
   "execution_count": 200,
   "metadata": {},
   "outputs": [],
   "source": [
    "unique, counts = np.unique(test_user_predictions, return_counts=True)"
   ]
  },
  {
   "cell_type": "code",
   "execution_count": 201,
   "metadata": {},
   "outputs": [],
   "source": [
    "prediction_counts =  dict(zip(unique, counts))"
   ]
  },
  {
   "cell_type": "code",
   "execution_count": 211,
   "metadata": {},
   "outputs": [
    {
     "name": "stdout",
     "output_type": "stream",
     "text": [
      "We have purchasers 69450 on Test data\n",
      "We have Non Purchasers 36811 on Test data\n"
     ]
    }
   ],
   "source": [
    "print('We have purchasers %d on Test data' % (prediction_counts[0]))\n",
    "print('We have Non Purchasers %d on Test data' % (prediction_counts[1]))\n"
   ]
  },
  {
   "cell_type": "markdown",
   "metadata": {},
   "source": [
    "### Extracting high probable Purchasers"
   ]
  },
  {
   "cell_type": "code",
   "execution_count": 213,
   "metadata": {},
   "outputs": [],
   "source": [
    "probs = clf.predict_proba(test_X_df)[:, 1]"
   ]
  },
  {
   "cell_type": "code",
   "execution_count": 214,
   "metadata": {},
   "outputs": [],
   "source": [
    "user_id_prob = list(zip(user_ids, probs))"
   ]
  },
  {
   "cell_type": "code",
   "execution_count": 215,
   "metadata": {},
   "outputs": [],
   "source": [
    "user_id_prob.sort(key = lambda x: -x[1])"
   ]
  },
  {
   "cell_type": "code",
   "execution_count": 216,
   "metadata": {},
   "outputs": [],
   "source": [
    "top_1000_users = [user[0] for user in user_id_prob[:1000]]"
   ]
  },
  {
   "cell_type": "code",
   "execution_count": 218,
   "metadata": {},
   "outputs": [],
   "source": [
    "test_probable_df = pd.DataFrame(top_1000_users, columns=[\"purchasers\"])\n",
    "test_probable_df.to_csv('probable_users.csv', index=False)"
   ]
  },
  {
   "cell_type": "raw",
   "metadata": {},
   "source": [
    "TOD0:\n",
    "- Use RNN to model to capture the sequenctial information of the actions as sequences\n",
    "- More analysis on action discovery \n",
    "- User activity characteristics \n",
    "- Temporal Behaviour (Long term and short term)"
   ]
  },
  {
   "cell_type": "code",
   "execution_count": null,
   "metadata": {},
   "outputs": [],
   "source": []
  }
 ],
 "metadata": {
  "kernelspec": {
   "display_name": "Python 3",
   "language": "python",
   "name": "python3"
  },
  "language_info": {
   "codemirror_mode": {
    "name": "ipython",
    "version": 3
   },
   "file_extension": ".py",
   "mimetype": "text/x-python",
   "name": "python",
   "nbconvert_exporter": "python",
   "pygments_lexer": "ipython3",
   "version": "3.7.3"
  }
 },
 "nbformat": 4,
 "nbformat_minor": 2
}
